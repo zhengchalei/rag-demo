{
 "cells": [
  {
   "cell_type": "code",
   "execution_count": 5,
   "id": "d5d5a0c2-82f7-40ed-88e5-5c9e3ce60200",
   "metadata": {},
   "outputs": [
    {
     "name": "stdout",
     "output_type": "stream",
     "text": [
      "[0], 冰箱里的牛奶正在冒泡，绿色的泡沫顺着门缝爬出来。我拿抹布去擦，指尖触到的却是砂纸般的粗糙。抹布突然变得透明，能看见掌心的纹路在游动，像一群迷路的蝌蚪。\n",
      "\n",
      "[1], 窗外的梧桐叶突然全部倒着生长，叶脉像无数双眼睛盯着天花板。天花板上的裂纹在唱歌，唱的是去年错过的那班地铁报站声。歌声震落了墙上的时钟，时钟摔在地上却没停，指针开始逆时针旋转，表盘里渗出黏稠的蜂蜜。\n",
      "\n",
      "[2], 我低头找拖鞋，却发现脚边站着个穿雨衣的小孩，雨衣在滴水，水珠落地后变成了晒干的橘子皮。小孩张开嘴，嘴里是旋转的星空，星空中有只猫在啃我的借书证。我想后退，脚跟却踢到个冰凉的东西，低头看是块墓碑，上面刻着明天的日期。\n",
      "\n",
      "[3], 厨房传来瓷器碎裂的声音，跑过去看时，地上的碎片正慢慢拼凑成一只鸟，鸟的羽毛是我昨天撕掉的日历纸。鸟飞走了，撞在玻璃上，玻璃没碎，鸟变成了一张便签，上面写着 “别忘了喂鱼”。\n",
      "\n",
      "[4], 鱼缸是空的，只有一层薄薄的灰尘，灰尘的形状是我小学时弄丢的那块橡皮。伸手去摸，指尖穿过灰尘碰到冰凉的水面，水里浮着半块面包，面包上的霉斑组成了邻居家小狗的名字。\n",
      "\n",
      "[5], 走廊里响起敲门声，节奏和我心跳的频率刚好相反。开门时没人，只有一束塑料玫瑰插在生锈的易拉罐里，花瓣正在一片片变成阿司匹林药片。风从楼道灌进来，吹得药片在地上打滚，滚成一串电话号码，拨号过去却听见自己的鼾声。\n",
      "\n",
      "[6], 回到卧室时，床单上铺满了枯叶，枯叶下面藏着个收音机，正在播放三十年前的天气预报。我关掉收音机，它却变成了块肥皂，肥皂泡飘到空中，每个泡泡里都有个我在不同的房间里发呆。\n",
      "\n"
     ]
    }
   ],
   "source": [
    "from typing import List\n",
    "\n",
    "def split_into_chunks(file_path: str) -> List[str]:\n",
    "    with open(file_path) as file:\n",
    "        content = file.read()\n",
    "    return content.split(\"\\n\")\n",
    "\n",
    "chunks = split_into_chunks(\"data.doc\")\n",
    "for i, chunk in enumerate(chunks):\n",
    "    print(f\"[{i}], {chunk}\\n\")"
   ]
  },
  {
   "cell_type": "code",
   "execution_count": 13,
   "id": "30260129",
   "metadata": {},
   "outputs": [],
   "source": [
    "from sentence_transformers import SentenceTransformer\n",
    "m = SentenceTransformer(\"shibing624/text2vec-base-chinese\")\n",
    "\n",
    "def emabed_chunk(chunk: str) -> List[float]:\n",
    "    enbadding = m.encode(chunk)\n",
    "    return enbadding.tolist()\n",
    "embeddings = [emabed_chunk(chunk) for chunk in chunks]\n"
   ]
  },
  {
   "cell_type": "code",
   "execution_count": 14,
   "id": "c608804c",
   "metadata": {},
   "outputs": [],
   "source": [
    "import chromadb\n",
    "\n",
    "chromadb_client = chromadb.EphemeralClient()\n",
    "chromadb_collection = chromadb_client.get_or_create_collection(\"default\")\n",
    "\n",
    "def save_embeddings(embeddings: List[List[float]], chunks: List[str]) -> None:\n",
    "    for i, embedding in enumerate(embeddings):\n",
    "        chromadb_collection.add(\n",
    "            ids=[str(i)],\n",
    "            embeddings=[embedding],\n",
    "            metadatas=[{\"text\": chunks[i]}]\n",
    "        )\n",
    "save_embeddings(embeddings, chunks)"
   ]
  },
  {
   "cell_type": "code",
   "execution_count": 16,
   "id": "ee50668c",
   "metadata": {},
   "outputs": [
    {
     "name": "stdout",
     "output_type": "stream",
     "text": [
      "[0] 鱼缸是空的，只有一层薄薄的灰尘，灰尘的形状是我小学时弄丢的那块橡皮。伸手去摸，指尖穿过灰尘碰到冰凉的水面，水里浮着半块面包，面包上的霉斑组成了邻居家小狗的名字。, score: 343.8890380859375\n",
      "[1] 冰箱里的牛奶正在冒泡，绿色的泡沫顺着门缝爬出来。我拿抹布去擦，指尖触到的却是砂纸般的粗糙。抹布突然变得透明，能看见掌心的纹路在游动，像一群迷路的蝌蚪。, score: 352.4180603027344\n",
      "[2] 走廊里响起敲门声，节奏和我心跳的频率刚好相反。开门时没人，只有一束塑料玫瑰插在生锈的易拉罐里，花瓣正在一片片变成阿司匹林药片。风从楼道灌进来，吹得药片在地上打滚，滚成一串电话号码，拨号过去却听见自己的鼾声。, score: 388.1824951171875\n",
      "[3] 回到卧室时，床单上铺满了枯叶，枯叶下面藏着个收音机，正在播放三十年前的天气预报。我关掉收音机，它却变成了块肥皂，肥皂泡飘到空中，每个泡泡里都有个我在不同的房间里发呆。, score: 390.1207580566406\n",
      "[4] 我低头找拖鞋，却发现脚边站着个穿雨衣的小孩，雨衣在滴水，水珠落地后变成了晒干的橘子皮。小孩张开嘴，嘴里是旋转的星空，星空中有只猫在啃我的借书证。我想后退，脚跟却踢到个冰凉的东西，低头看是块墓碑，上面刻着明天的日期。, score: 400.0201721191406\n"
     ]
    }
   ],
   "source": [
    "def search(query: str, top_k: int = 5) -> List[dict]:\n",
    "    query_embedding = m.encode(query).tolist()\n",
    "    results = chromadb_collection.query(\n",
    "        query_embeddings=[query_embedding],\n",
    "        n_results=top_k\n",
    "    )\n",
    "    return results\n",
    "query = \"易拉罐里有什么\"\n",
    "embeddingResults = search(query)\n",
    "for i, result in enumerate(embeddingResults[\"metadatas\"][0]):\n",
    "    print(f\"[{i}] {result['text']}, score: {embeddingResults['distances'][0][i]}\")"
   ]
  },
  {
   "cell_type": "code",
   "execution_count": 17,
   "id": "b6e20e60",
   "metadata": {},
   "outputs": [
    {
     "name": "stdout",
     "output_type": "stream",
     "text": [
      "[0] 走廊里响起敲门声，节奏和我心跳的频率刚好相反。开门时没人，只有一束塑料玫瑰插在生锈的易拉罐里，花瓣正在一片片变成阿司匹林药片。风从楼道灌进来，吹得药片在地上打滚，滚成一串电话号码，拨号过去却听见自己的鼾声。, score: 0.08153599500656128, distance: 343.8890380859375\n",
      "[1] 鱼缸是空的，只有一层薄薄的灰尘，灰尘的形状是我小学时弄丢的那块橡皮。伸手去摸，指尖穿过灰尘碰到冰凉的水面，水里浮着半块面包，面包上的霉斑组成了邻居家小狗的名字。, score: -4.310776233673096, distance: 352.4180603027344\n",
      "[2] 冰箱里的牛奶正在冒泡，绿色的泡沫顺着门缝爬出来。我拿抹布去擦，指尖触到的却是砂纸般的粗糙。抹布突然变得透明，能看见掌心的纹路在游动，像一群迷路的蝌蚪。, score: -5.397525787353516, distance: 388.1824951171875\n",
      "[3] 回到卧室时，床单上铺满了枯叶，枯叶下面藏着个收音机，正在播放三十年前的天气预报。我关掉收音机，它却变成了块肥皂，肥皂泡飘到空中，每个泡泡里都有个我在不同的房间里发呆。, score: -5.708637714385986, distance: 390.1207580566406\n",
      "[4] 我低头找拖鞋，却发现脚边站着个穿雨衣的小孩，雨衣在滴水，水珠落地后变成了晒干的橘子皮。小孩张开嘴，嘴里是旋转的星空，星空中有只猫在啃我的借书证。我想后退，脚跟却踢到个冰凉的东西，低头看是块墓碑，上面刻着明天的日期。, score: -6.046027183532715, distance: 400.0201721191406\n"
     ]
    }
   ],
   "source": [
    "from sentence_transformers import CrossEncoder\n",
    "cross_encoder = CrossEncoder(\"cross-encoder/mmarco-mMiniLMv2-L12-H384-v1\")\n",
    "\n",
    "def re_rank(query: str, results: List[dict]) -> List[dict]:\n",
    "    scores = cross_encoder.predict([(query, result['text']) for result in results])\n",
    "    for i, score in enumerate(scores):\n",
    "        results[i]['score'] = score\n",
    "    return sorted(results, key=lambda x: x['score'], reverse=True)\n",
    "\n",
    "re_ranked_results = re_rank(query, embeddingResults[\"metadatas\"][0])\n",
    "for i, result in enumerate(re_ranked_results):\n",
    "    print(f\"[{i}] {result['text']}, score: {result['score']}, distance: {embeddingResults['distances'][0][i]}\")"
   ]
  },
  {
   "cell_type": "code",
   "execution_count": 1,
   "id": "f55d8c1c",
   "metadata": {
    "vscode": {
     "languageId": "ini"
    }
   },
   "outputs": [
    {
     "ename": "ValueError",
     "evalue": "Missing key inputs argument! To use the Google AI API, provide (`api_key`) arguments. To use the Google Cloud API, provide (`vertexai`, `project` & `location`) arguments.",
     "output_type": "error",
     "traceback": [
      "\u001b[31m---------------------------------------------------------------------------\u001b[39m",
      "\u001b[31mValueError\u001b[39m                                Traceback (most recent call last)",
      "\u001b[36mCell\u001b[39m\u001b[36m \u001b[39m\u001b[32mIn[1]\u001b[39m\u001b[32m, line 6\u001b[39m\n\u001b[32m      3\u001b[39m \u001b[38;5;28;01mfrom\u001b[39;00m\u001b[38;5;250m \u001b[39m\u001b[34;01mgoogle\u001b[39;00m\u001b[38;5;250m \u001b[39m\u001b[38;5;28;01mimport\u001b[39;00m genai\n\u001b[32m      5\u001b[39m load_dotenv()\n\u001b[32m----> \u001b[39m\u001b[32m6\u001b[39m genai_client = \u001b[43mgenai\u001b[49m\u001b[43m.\u001b[49m\u001b[43mClient\u001b[49m\u001b[43m(\u001b[49m\u001b[43m)\u001b[49m\n\u001b[32m      8\u001b[39m \u001b[38;5;28;01mdef\u001b[39;00m\u001b[38;5;250m \u001b[39m\u001b[34mgenerate_answer\u001b[39m(question: \u001b[38;5;28mstr\u001b[39m, chunks: List[\u001b[38;5;28mstr\u001b[39m]) -> \u001b[38;5;28mstr\u001b[39m:\n\u001b[32m      9\u001b[39m     \u001b[38;5;66;03m# 这里需要 嵌入 query 和 re_ranked_results, 并且写好中文提示词,\u001b[39;00m\n\u001b[32m     10\u001b[39m     prompt = \u001b[33mf\u001b[39m\u001b[33m\"\u001b[39m\u001b[33m根据以下上下文回答问题。\u001b[39m\u001b[38;5;130;01m\\n\u001b[39;00m\u001b[38;5;130;01m\\n\u001b[39;00m\u001b[33m上下文: \u001b[39m\u001b[38;5;132;01m{\u001b[39;00mchunks\u001b[38;5;132;01m}\u001b[39;00m\u001b[38;5;130;01m\\n\u001b[39;00m\u001b[38;5;130;01m\\n\u001b[39;00m\u001b[33m问题: \u001b[39m\u001b[38;5;132;01m{\u001b[39;00mquestion\u001b[38;5;132;01m}\u001b[39;00m\u001b[33m\"\u001b[39m\n",
      "\u001b[36mFile \u001b[39m\u001b[32m~/Projects/rag/.venv/lib/python3.13/site-packages/google/genai/client.py:219\u001b[39m, in \u001b[36mClient.__init__\u001b[39m\u001b[34m(self, vertexai, api_key, credentials, project, location, debug_config, http_options)\u001b[39m\n\u001b[32m    216\u001b[39m   \u001b[38;5;28;01melse\u001b[39;00m:\n\u001b[32m    217\u001b[39m     http_options = HttpOptions(base_url=base_url)\n\u001b[32m--> \u001b[39m\u001b[32m219\u001b[39m \u001b[38;5;28mself\u001b[39m._api_client = \u001b[38;5;28;43mself\u001b[39;49m\u001b[43m.\u001b[49m\u001b[43m_get_api_client\u001b[49m\u001b[43m(\u001b[49m\n\u001b[32m    220\u001b[39m \u001b[43m    \u001b[49m\u001b[43mvertexai\u001b[49m\u001b[43m=\u001b[49m\u001b[43mvertexai\u001b[49m\u001b[43m,\u001b[49m\n\u001b[32m    221\u001b[39m \u001b[43m    \u001b[49m\u001b[43mapi_key\u001b[49m\u001b[43m=\u001b[49m\u001b[43mapi_key\u001b[49m\u001b[43m,\u001b[49m\n\u001b[32m    222\u001b[39m \u001b[43m    \u001b[49m\u001b[43mcredentials\u001b[49m\u001b[43m=\u001b[49m\u001b[43mcredentials\u001b[49m\u001b[43m,\u001b[49m\n\u001b[32m    223\u001b[39m \u001b[43m    \u001b[49m\u001b[43mproject\u001b[49m\u001b[43m=\u001b[49m\u001b[43mproject\u001b[49m\u001b[43m,\u001b[49m\n\u001b[32m    224\u001b[39m \u001b[43m    \u001b[49m\u001b[43mlocation\u001b[49m\u001b[43m=\u001b[49m\u001b[43mlocation\u001b[49m\u001b[43m,\u001b[49m\n\u001b[32m    225\u001b[39m \u001b[43m    \u001b[49m\u001b[43mdebug_config\u001b[49m\u001b[43m=\u001b[49m\u001b[38;5;28;43mself\u001b[39;49m\u001b[43m.\u001b[49m\u001b[43m_debug_config\u001b[49m\u001b[43m,\u001b[49m\n\u001b[32m    226\u001b[39m \u001b[43m    \u001b[49m\u001b[43mhttp_options\u001b[49m\u001b[43m=\u001b[49m\u001b[43mhttp_options\u001b[49m\u001b[43m,\u001b[49m\n\u001b[32m    227\u001b[39m \u001b[43m\u001b[49m\u001b[43m)\u001b[49m\n\u001b[32m    229\u001b[39m \u001b[38;5;28mself\u001b[39m._aio = AsyncClient(\u001b[38;5;28mself\u001b[39m._api_client)\n\u001b[32m    230\u001b[39m \u001b[38;5;28mself\u001b[39m._models = Models(\u001b[38;5;28mself\u001b[39m._api_client)\n",
      "\u001b[36mFile \u001b[39m\u001b[32m~/Projects/rag/.venv/lib/python3.13/site-packages/google/genai/client.py:265\u001b[39m, in \u001b[36mClient._get_api_client\u001b[39m\u001b[34m(vertexai, api_key, credentials, project, location, debug_config, http_options)\u001b[39m\n\u001b[32m    248\u001b[39m \u001b[38;5;28;01mif\u001b[39;00m debug_config \u001b[38;5;129;01mand\u001b[39;00m debug_config.client_mode \u001b[38;5;129;01min\u001b[39;00m [\n\u001b[32m    249\u001b[39m     \u001b[33m'\u001b[39m\u001b[33mrecord\u001b[39m\u001b[33m'\u001b[39m,\n\u001b[32m    250\u001b[39m     \u001b[33m'\u001b[39m\u001b[33mreplay\u001b[39m\u001b[33m'\u001b[39m,\n\u001b[32m    251\u001b[39m     \u001b[33m'\u001b[39m\u001b[33mauto\u001b[39m\u001b[33m'\u001b[39m,\n\u001b[32m    252\u001b[39m ]:\n\u001b[32m    253\u001b[39m   \u001b[38;5;28;01mreturn\u001b[39;00m ReplayApiClient(\n\u001b[32m    254\u001b[39m       mode=debug_config.client_mode,  \u001b[38;5;66;03m# type: ignore[arg-type]\u001b[39;00m\n\u001b[32m    255\u001b[39m       replay_id=debug_config.replay_id,  \u001b[38;5;66;03m# type: ignore[arg-type]\u001b[39;00m\n\u001b[32m   (...)\u001b[39m\u001b[32m    262\u001b[39m       http_options=http_options,\n\u001b[32m    263\u001b[39m   )\n\u001b[32m--> \u001b[39m\u001b[32m265\u001b[39m \u001b[38;5;28;01mreturn\u001b[39;00m \u001b[43mBaseApiClient\u001b[49m\u001b[43m(\u001b[49m\n\u001b[32m    266\u001b[39m \u001b[43m    \u001b[49m\u001b[43mvertexai\u001b[49m\u001b[43m=\u001b[49m\u001b[43mvertexai\u001b[49m\u001b[43m,\u001b[49m\n\u001b[32m    267\u001b[39m \u001b[43m    \u001b[49m\u001b[43mapi_key\u001b[49m\u001b[43m=\u001b[49m\u001b[43mapi_key\u001b[49m\u001b[43m,\u001b[49m\n\u001b[32m    268\u001b[39m \u001b[43m    \u001b[49m\u001b[43mcredentials\u001b[49m\u001b[43m=\u001b[49m\u001b[43mcredentials\u001b[49m\u001b[43m,\u001b[49m\n\u001b[32m    269\u001b[39m \u001b[43m    \u001b[49m\u001b[43mproject\u001b[49m\u001b[43m=\u001b[49m\u001b[43mproject\u001b[49m\u001b[43m,\u001b[49m\n\u001b[32m    270\u001b[39m \u001b[43m    \u001b[49m\u001b[43mlocation\u001b[49m\u001b[43m=\u001b[49m\u001b[43mlocation\u001b[49m\u001b[43m,\u001b[49m\n\u001b[32m    271\u001b[39m \u001b[43m    \u001b[49m\u001b[43mhttp_options\u001b[49m\u001b[43m=\u001b[49m\u001b[43mhttp_options\u001b[49m\u001b[43m,\u001b[49m\n\u001b[32m    272\u001b[39m \u001b[43m\u001b[49m\u001b[43m)\u001b[49m\n",
      "\u001b[36mFile \u001b[39m\u001b[32m~/Projects/rag/.venv/lib/python3.13/site-packages/google/genai/_api_client.py:544\u001b[39m, in \u001b[36mBaseApiClient.__init__\u001b[39m\u001b[34m(self, vertexai, api_key, credentials, project, location, http_options)\u001b[39m\n\u001b[32m    542\u001b[39m \u001b[38;5;28;01melse\u001b[39;00m:  \u001b[38;5;66;03m# Implicit initialization or missing arguments.\u001b[39;00m\n\u001b[32m    543\u001b[39m   \u001b[38;5;28;01mif\u001b[39;00m \u001b[38;5;129;01mnot\u001b[39;00m \u001b[38;5;28mself\u001b[39m.api_key:\n\u001b[32m--> \u001b[39m\u001b[32m544\u001b[39m     \u001b[38;5;28;01mraise\u001b[39;00m \u001b[38;5;167;01mValueError\u001b[39;00m(\n\u001b[32m    545\u001b[39m         \u001b[33m'\u001b[39m\u001b[33mMissing key inputs argument! To use the Google AI API,\u001b[39m\u001b[33m'\u001b[39m\n\u001b[32m    546\u001b[39m         \u001b[33m'\u001b[39m\u001b[33m provide (`api_key`) arguments. To use the Google Cloud API,\u001b[39m\u001b[33m'\u001b[39m\n\u001b[32m    547\u001b[39m         \u001b[33m'\u001b[39m\u001b[33m provide (`vertexai`, `project` & `location`) arguments.\u001b[39m\u001b[33m'\u001b[39m\n\u001b[32m    548\u001b[39m     )\n\u001b[32m    549\u001b[39m   \u001b[38;5;28mself\u001b[39m._http_options.base_url = \u001b[33m'\u001b[39m\u001b[33mhttps://generativelanguage.googleapis.com/\u001b[39m\u001b[33m'\u001b[39m\n\u001b[32m    550\u001b[39m   \u001b[38;5;28mself\u001b[39m._http_options.api_version = \u001b[33m'\u001b[39m\u001b[33mv1beta\u001b[39m\u001b[33m'\u001b[39m\n",
      "\u001b[31mValueError\u001b[39m: Missing key inputs argument! To use the Google AI API, provide (`api_key`) arguments. To use the Google Cloud API, provide (`vertexai`, `project` & `location`) arguments."
     ]
    }
   ],
   "source": [
    "# 使用 genai 把查询出来的向量和问题一起发送到 genai, 给出一个正确的答案\n",
    "from dotenv import load_dotenv\n",
    "from google import genai\n",
    "\n",
    "load_dotenv()\n",
    "genai_client = genai.Client()\n",
    "\n",
    "def generate_answer(question: str, chunks: List[str]) -> str:\n",
    "    # 这里需要 嵌入 query 和 re_ranked_results, 并且写好中文提示词,\n",
    "    prompt = f\"根据以下上下文回答问题。\\n\\n上下文: {chunks}\\n\\n问题: {question}\"\n",
    "    response = genai_client.generate_text(\n",
    "        model=\"gemini-2.5-flash\",\n",
    "        prompt=prompt,\n",
    "        temperature=0.2,\n",
    "        max_output_tokens=100\n",
    "    )\n",
    "    return response.text\n",
    "\n",
    "generate_answer(query, re_ranked_results)\n"
   ]
  },
  {
   "cell_type": "code",
   "execution_count": null,
   "id": "5638aa44-393c-471e-9d97-1e205a3060ee",
   "metadata": {},
   "outputs": [],
   "source": []
  }
 ],
 "metadata": {
  "kernelspec": {
   "display_name": "Python 3 (ipykernel)",
   "language": "python",
   "name": "python3"
  },
  "language_info": {
   "codemirror_mode": {
    "name": "ipython",
    "version": 3
   },
   "file_extension": ".py",
   "mimetype": "text/x-python",
   "name": "python",
   "nbconvert_exporter": "python",
   "pygments_lexer": "ipython3",
   "version": "3.13.3"
  }
 },
 "nbformat": 4,
 "nbformat_minor": 5
}
