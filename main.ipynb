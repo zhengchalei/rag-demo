{
 "cells": [
  {
   "cell_type": "code",
   "execution_count": 11,
   "id": "d5d5a0c2-82f7-40ed-88e5-5c9e3ce60200",
   "metadata": {},
   "outputs": [],
   "source": [
    "from typing import List\n",
    "\n",
    "def split_into_chunks(file_path: str) -> List[str]:\n",
    "    with open(file_path) as file:\n",
    "        content = file.read()\n",
    "    return content.split(\"\\n\")\n",
    "\n",
    "chunks = split_into_chunks(\"data.doc\")"
   ]
  },
  {
   "cell_type": "code",
   "execution_count": null,
   "id": "30260129",
   "metadata": {},
   "outputs": [],
   "source": [
    "from sentence_transformers import SentenceTransformer\n",
    "m = SentenceTransformer(\"shibing624/text2vec-base-chinese\")\n",
    "\n",
    "def emabed_chunk(chunk: str) -> List[float]:\n",
    "    enbadding = m.encode(chunk)\n",
    "    return enbadding.tolist()\n",
    "embeddings = [emabed_chunk(chunk) for chunk in chunks]\n"
   ]
  },
  {
   "cell_type": "code",
   "execution_count": null,
   "id": "c608804c",
   "metadata": {},
   "outputs": [],
   "source": [
    "import chromadb\n",
    "\n",
    "chromadb_client = chromadb.EphemeralClient()\n",
    "chromadb_collection = chromadb_client.get_or_create_collection(\"default\")\n",
    "\n",
    "def save_embeddings(embeddings: List[List[float]], chunks: List[str]) -> None:\n",
    "    for i, embedding in enumerate(embeddings):\n",
    "        chromadb_collection.add(\n",
    "            ids=[str(i)],\n",
    "            embeddings=[embedding],\n",
    "            metadatas=[{\"text\": chunks[i]}]\n",
    "        )\n",
    "save_embeddings(embeddings, chunks)"
   ]
  },
  {
   "cell_type": "code",
   "execution_count": null,
   "id": "ee50668c",
   "metadata": {},
   "outputs": [],
   "source": [
    "def search(query: str, top_k: int = 5) -> List[dict]:\n",
    "    query_embedding = m.encode(query).tolist()\n",
    "    results = chromadb_collection.query(\n",
    "        query_embeddings=[query_embedding],\n",
    "        n_results=top_k\n",
    "    )\n",
    "    return results"
   ]
  },
  {
   "cell_type": "code",
   "execution_count": null,
   "id": "b6e20e60",
   "metadata": {},
   "outputs": [],
   "source": [
    "from sentence_transformers import CrossEncoder\n",
    "cross_encoder = CrossEncoder(\"cross-encoder/mmarco-mMiniLMv2-L12-H384-v1\")\n",
    "\n",
    "def re_rank(query: str, results: List[dict]) -> List[dict]:\n",
    "    scores = cross_encoder.predict([(query, result['text']) for result in results])\n",
    "    for i, score in enumerate(scores):\n",
    "        results[i]['score'] = score\n",
    "    return sorted(results, key=lambda x: x['score'], reverse=True)\n"
   ]
  },
  {
   "cell_type": "code",
   "execution_count": null,
   "id": "f55d8c1c",
   "metadata": {},
   "outputs": [],
   "source": [
    "# 使用 genai 把查询出来的向量和问题一起发送到 genai, 给出一个正确的答案\n",
    "from dotenv import load_dotenv\n",
    "from google import genai\n",
    "\n",
    "\n",
    "load_dotenv()\n",
    "genai_client = genai.Client()\n",
    "\n",
    "\n",
    "def generate_answer(question: str, chunks: List[str]) -> str:\n",
    "    # 这里需要 嵌入 query 和 re_ranked_results, 并且写好中文提示词,\n",
    "    prompt = f\"根据以下上下文回答问题, 只回答问题相关数据。\\n\\n上下文: {chunks}\\n\\n问题: {question}\"\n",
    "    response = genai_client.models.generate_content(\n",
    "        model=\"gemini-2.5-flash\",\n",
    "        contents=prompt,\n",
    "    )\n",
    "    return response.text\n"
   ]
  },
  {
   "cell_type": "code",
   "execution_count": null,
   "id": "ad9dd9d0",
   "metadata": {},
   "outputs": [],
   "source": [
    "query = \"易拉罐里有什么\"\n",
    "embeddingResults = search(query)\n",
    "re_ranked_results = re_rank(query, embeddingResults[\"metadatas\"][0])\n",
    "answer = generate_answer(query, re_ranked_results)\n",
    "print(answer)"
   ]
  }
 ],
 "metadata": {
  "kernelspec": {
   "display_name": "rag",
   "language": "python",
   "name": "python3"
  },
  "language_info": {
   "codemirror_mode": {
    "name": "ipython",
    "version": 3
   },
   "file_extension": ".py",
   "mimetype": "text/x-python",
   "name": "python",
   "nbconvert_exporter": "python",
   "pygments_lexer": "ipython3",
   "version": "3.13.3"
  }
 },
 "nbformat": 4,
 "nbformat_minor": 5
}
